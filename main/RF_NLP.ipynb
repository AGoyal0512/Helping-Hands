{
 "cells": [
  {
   "cell_type": "code",
   "execution_count": 11,
   "id": "4f5630ee",
   "metadata": {},
   "outputs": [],
   "source": [
    "# Importing libraries\n",
    "import pandas as pd\n",
    "import numpy as np\n",
    "\n",
    "from nltk.tokenize import word_tokenize\n",
    "from nltk.corpus import stopwords, wordnet\n",
    "import string\n",
    "from nltk.stem import WordNetLemmatizer\n",
    "from nltk import pos_tag\n",
    "\n",
    "from sklearn.feature_extraction.text import CountVectorizer\n",
    "from sklearn.model_selection import train_test_split\n",
    "from sklearn.ensemble import RandomForestClassifier as rf\n",
    "from sklearn.metrics import accuracy_score"
   ]
  },
  {
   "cell_type": "code",
   "execution_count": 6,
   "id": "b8c95698",
   "metadata": {},
   "outputs": [],
   "source": [
    "lemmatizer = WordNetLemmatizer()\n",
    "stop = stopwords.words(\"english\")\n",
    "punctuations = list(string.punctuation)\n",
    "stop += punctuations"
   ]
  },
  {
   "cell_type": "code",
   "execution_count": 7,
   "id": "e8aed785",
   "metadata": {},
   "outputs": [],
   "source": [
    "def get_simple_pos(tag):\n",
    "    if tag.startswith('J'):\n",
    "        return wordnet.ADJ\n",
    "    elif tag.startswith('V'):\n",
    "        return wordnet.VERB\n",
    "    elif tag.startswith('N'):\n",
    "        return wordnet.NOUN\n",
    "    elif tag.startswith('R'):\n",
    "        return wordnet.ADV\n",
    "    else:\n",
    "        return wordnet.NOUN "
   ]
  },
  {
   "cell_type": "code",
   "execution_count": 8,
   "id": "6508d4b3",
   "metadata": {},
   "outputs": [],
   "source": [
    "def clean(words):\n",
    "    output_words = []\n",
    "    for w in words:\n",
    "        if w.lower() not in stop:\n",
    "            pos = pos_tag([w])\n",
    "            clean_word = lemmatizer.lemmatize(w, pos = get_simple_pos(pos[0][1])).lower()\n",
    "            output_words.append(clean_word)\n",
    "    return output_words"
   ]
  },
  {
   "cell_type": "code",
   "execution_count": 57,
   "id": "8bc4d94d",
   "metadata": {},
   "outputs": [],
   "source": [
    "class suicide_predictor:\n",
    "    def __init__(self):\n",
    "        \n",
    "        \n",
    "        # Reading the dataset and subsetting the columns\n",
    "        df = pd.read_csv('Suicide_Detection.csv', index_col=\"Unnamed: 0\")\n",
    "        # Text input\n",
    "        text = pd.Series(df['text'])\n",
    "        # One-hot encoding the Label column\n",
    "        suicide = pd.Series(pd.get_dummies(df['class'], drop_first=True)['suicide'])\n",
    "    \n",
    "        # Reorganizing our dataset after one-hot encoding to have a 0/1 label\n",
    "        df = { 'Text': text, 'suicide': suicide }\n",
    "        df = pd.DataFrame(df)\n",
    "        df = df.reset_index().drop('index', axis = 1)\n",
    "    \n",
    "        # Splitting the data\n",
    "        train_data, test_data = train_test_split(df, test_size=0.25, random_state=10)\n",
    "        Xtrain_text = np.array(train_data[\"Text\"].astype(str))\n",
    "        Xtrain_text = [clean(word_tokenize(words)) for words in Xtrain_text]\n",
    "        Xtrain_text = [\" \".join(words) for words in Xtrain_text]\n",
    "        self.count_vec = CountVectorizer(max_features = 2000)\n",
    "        temp = self.count_vec.fit_transform(Xtrain_text)\n",
    "        X_train_features = temp.todense()\n",
    "    \n",
    "        self.clf = rf(n_estimators = 80, random_state = 18, max_depth = 100)\n",
    "        self.clf.fit(X_train_features, train_data['suicide'])\n",
    "    \n",
    "    def clean_str(self, msg):\n",
    "        msg_text = clean(word_tokenize(msg))\n",
    "        msg_text = [\" \".join(msg_text)]\n",
    "        msg_features = self.count_vec.transform(msg_text).todense()\n",
    "        return msg_features\n",
    "        \n",
    "    def predict(self, msg):\n",
    "        return self.clf.predict(msg)"
   ]
  },
  {
   "cell_type": "code",
   "execution_count": 58,
   "id": "24d168bb",
   "metadata": {},
   "outputs": [],
   "source": [
    "clf = suicide_predictor()"
   ]
  },
  {
   "cell_type": "code",
   "execution_count": 63,
   "id": "092658f5",
   "metadata": {},
   "outputs": [
    {
     "data": {
      "text/plain": [
       "array([1], dtype=uint8)"
      ]
     },
     "execution_count": 63,
     "metadata": {},
     "output_type": "execute_result"
    }
   ],
   "source": [
    "clf.predict(clf.clean_str('suicide is not an option!!'))"
   ]
  },
  {
   "cell_type": "code",
   "execution_count": null,
   "id": "d48ee894",
   "metadata": {},
   "outputs": [],
   "source": []
  }
 ],
 "metadata": {
  "kernelspec": {
   "display_name": "Python 3",
   "language": "python",
   "name": "python3"
  },
  "language_info": {
   "codemirror_mode": {
    "name": "ipython",
    "version": 3
   },
   "file_extension": ".py",
   "mimetype": "text/x-python",
   "name": "python",
   "nbconvert_exporter": "python",
   "pygments_lexer": "ipython3",
   "version": "3.8.8"
  }
 },
 "nbformat": 4,
 "nbformat_minor": 5
}
