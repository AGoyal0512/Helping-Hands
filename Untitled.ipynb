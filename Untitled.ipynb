{
 "cells": [
  {
   "cell_type": "code",
   "execution_count": 24,
   "id": "fd4f455e",
   "metadata": {},
   "outputs": [],
   "source": [
    "import numpy as np\n",
    "import pandas as pd\n",
    "from nltk.tokenize import word_tokenize\n",
    "from nltk.corpus import stopwords, wordnet\n",
    "import string\n",
    "from nltk.stem import WordNetLemmatizer\n",
    "from nltk import pos_tag\n",
    "from sklearn.feature_extraction.text import CountVectorizer"
   ]
  },
  {
   "cell_type": "code",
   "execution_count": 25,
   "id": "31c7274a",
   "metadata": {},
   "outputs": [],
   "source": [
    "lemmatizer = WordNetLemmatizer()\n",
    "stop = stopwords.words(\"english\")\n",
    "punctuations = list(string.punctuation)\n",
    "stop += punctuations"
   ]
  },
  {
   "cell_type": "code",
   "execution_count": 26,
   "id": "f2dfa516",
   "metadata": {},
   "outputs": [],
   "source": [
    "def get_simple_pos(tag):\n",
    "    if tag.startswith('J'):\n",
    "        return wordnet.ADJ\n",
    "    elif tag.startswith('V'):\n",
    "        return wordnet.VERB\n",
    "    elif tag.startswith('N'):\n",
    "        return wordnet.NOUN\n",
    "    elif tag.startswith('R'):\n",
    "        return wordnet.ADV\n",
    "    else:\n",
    "        return wordnet.NOUN "
   ]
  },
  {
   "cell_type": "code",
   "execution_count": 27,
   "id": "74a7f34c",
   "metadata": {},
   "outputs": [],
   "source": [
    "def clean(words):\n",
    "    output_words = []\n",
    "    for w in words:\n",
    "        if w.lower() not in stop:\n",
    "            pos = pos_tag([w])\n",
    "            clean_word = lemmatizer.lemmatize(w, pos = get_simple_pos(pos[0][1])).lower()\n",
    "            output_words.append(clean_word)\n",
    "    return output_words"
   ]
  },
  {
   "cell_type": "code",
   "execution_count": 29,
   "id": "ea55e549",
   "metadata": {},
   "outputs": [],
   "source": [
    "data = pd.read_csv(\"C:/Users/shiva/Desktop/Suicide_Detection.csv\")"
   ]
  },
  {
   "cell_type": "code",
   "execution_count": 30,
   "id": "fe3871be",
   "metadata": {},
   "outputs": [
    {
     "data": {
      "text/plain": [
       "array([\"Ex Wife Threatening SuicideRecently I left my wife for good because she has cheated on me twice and lied to me so much that I have decided to refuse to go back to her. As of a few days ago, she began threatening suicide. I have tirelessly spent these paat few days talking her out of it and she keeps hesitating because she wants to believe I'll come back. I know a lot of people will threaten this in order to get their way, but what happens if she really does? What do I do and how am I supposed to handle her death on my hands? I still love my wife but I cannot deal with getting cheated on again and constantly feeling insecure. I'm worried today may be the day she does it and I hope so much it doesn't happen.\",\n",
       "       \"Am I weird I don't get affected by compliments if it's coming from someone I know irl but I feel really good when internet strangers do it\",\n",
       "       'Finally 2020 is almost over... So I can never hear \"2020 has been a bad year\" ever again. I swear to fucking God it\\'s so annoying',\n",
       "       ...,\n",
       "       'pee probably tastes like salty tea😏💦‼️ can someone who drank pee before confirm this🙄‼️',\n",
       "       'The usual stuff you find hereI\\'m not posting this for sympathy or pity because I know there are far worse situations then mine but I just want to get this stuff out there. \\n\\nBut it just seems in my life that there is no point to. Everything I have done in life I have ruined or quit, I have isolated myself from everyone even my own family. Not even like telling them (my family) would help, they\\'d just consider me psychotic and they are probably right for all I know.  I\\'m 18 and have no sense on what the fuck the universe wants from me, and thinking about it, seems like the universe fucked up when they made me ( I know that\\'s not how I\\'m \"made\" just fuck off) because I don\\'t think it knows what it wants from me, and all I get from people trying to help is how they went through \"rough patches\" and just got to tough it out. I\\'m done \"toughing\" it out, life shouldn\\'t be toughing it out. I look around in my family and since I\\'m the youngest I\\'ve seen all the ridiculous shit that has happened to them all and it\\'s fucked, And I post this in this area because this isn\\'t the first time I have felt like this, I have tried to take my life before, and couldn\\'t do it. WHAT A BITCH I KNOW, I mean seriously what cruel joke is being played on me. I despise my life and just want to know what it would be like if i ended it and I can\\'t even do that. It\\'s so fucked too because whenever I was around \"friends\" I would just put on this macho toughness guy like nothing hurt me and I just kept everything bottled up, and there shouldn\\'t be anything in my life that I should complain about because I had the option to make it better but what good would come of it. I failed out of college because of this and I will probably never get back of track, so that light so-called light at the end of the tunnel is getting smaller by the day. ',\n",
       "       \"I still haven't beaten the first boss in Hollow Knight. I've only fought it a few times and I always die really early in the fight. I'm terrible at this game y'all. :(\"],\n",
       "      dtype=object)"
      ]
     },
     "execution_count": 30,
     "metadata": {},
     "output_type": "execute_result"
    }
   ],
   "source": [
    "text = np.array(data[\"text\"].astype(str))\n",
    "text"
   ]
  },
  {
   "cell_type": "code",
   "execution_count": null,
   "id": "644ae62a",
   "metadata": {},
   "outputs": [],
   "source": [
    "text = [clean(word_tokenize(words)) for words in text]"
   ]
  },
  {
   "cell_type": "code",
   "execution_count": 19,
   "id": "3ca7fc63",
   "metadata": {},
   "outputs": [],
   "source": [
    "text = [\" \".join(words) for words in text]"
   ]
  },
  {
   "cell_type": "code",
   "execution_count": 23,
   "id": "6734a2bd",
   "metadata": {},
   "outputs": [],
   "source": [
    "count_vec = CountVectorizer(max_features = 5000)\n",
    "temp = count_vec.fit_transform(text)"
   ]
  },
  {
   "cell_type": "code",
   "execution_count": null,
   "id": "8bb3a8d9",
   "metadata": {},
   "outputs": [],
   "source": [
    "text_features = temp.todense()"
   ]
  }
 ],
 "metadata": {
  "kernelspec": {
   "display_name": "Python 3",
   "language": "python",
   "name": "python3"
  },
  "language_info": {
   "codemirror_mode": {
    "name": "ipython",
    "version": 3
   },
   "file_extension": ".py",
   "mimetype": "text/x-python",
   "name": "python",
   "nbconvert_exporter": "python",
   "pygments_lexer": "ipython3",
   "version": "3.8.8"
  }
 },
 "nbformat": 4,
 "nbformat_minor": 5
}
